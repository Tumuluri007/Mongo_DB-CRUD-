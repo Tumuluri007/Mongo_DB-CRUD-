{
 "cells": [
  {
   "cell_type": "markdown",
   "id": "b690c973",
   "metadata": {},
   "source": [
    "# MongoDB CRUD Operations\n",
    "\n",
    "Go over how to use the CRUD operation of our MongoDB instance within our Python code using the pymongo module. "
   ]
  },
  {
   "cell_type": "markdown",
   "id": "63d82484",
   "metadata": {},
   "source": [
    "### Import MongoClient instance from pymongo module"
   ]
  },
  {
   "cell_type": "code",
   "execution_count": 1,
   "id": "9f859079",
   "metadata": {},
   "outputs": [],
   "source": [
    "from pymongo import MongoClient"
   ]
  },
  {
   "cell_type": "markdown",
   "id": "4091368b",
   "metadata": {},
   "source": [
    "### Initalize A Client To Connect To MongoDB"
   ]
  },
  {
   "cell_type": "code",
   "execution_count": 3,
   "id": "23925406",
   "metadata": {},
   "outputs": [],
   "source": [
    "my_client = MongoClient(\"localhost\" , 27017)"
   ]
  },
  {
   "cell_type": "code",
   "execution_count": 4,
   "id": "ee3194eb-15b5-4246-a1c4-4cb8958a798b",
   "metadata": {},
   "outputs": [
    {
     "data": {
      "text/plain": [
       "MongoClient(host=['localhost:27017'], document_class=dict, tz_aware=False, connect=True)"
      ]
     },
     "execution_count": 4,
     "metadata": {},
     "output_type": "execute_result"
    }
   ],
   "source": [
    "my_client"
   ]
  },
  {
   "cell_type": "markdown",
   "id": "012432e6",
   "metadata": {},
   "source": [
    "### Connect to specific Database"
   ]
  },
  {
   "cell_type": "code",
   "execution_count": 5,
   "id": "cd4dd97d",
   "metadata": {},
   "outputs": [
    {
     "data": {
      "text/plain": [
       "['admin', 'config', 'local', 'my_store', 'test']"
      ]
     },
     "execution_count": 5,
     "metadata": {},
     "output_type": "execute_result"
    }
   ],
   "source": [
    "my_client.list_database_names()"
   ]
  },
  {
   "cell_type": "code",
   "execution_count": 6,
   "id": "5e4867a1",
   "metadata": {},
   "outputs": [],
   "source": [
    "db = my_client.test"
   ]
  },
  {
   "cell_type": "code",
   "execution_count": 7,
   "id": "250299f3",
   "metadata": {},
   "outputs": [
    {
     "data": {
      "text/plain": [
       "Database(MongoClient(host=['localhost:27017'], document_class=dict, tz_aware=False, connect=True), 'test')"
      ]
     },
     "execution_count": 7,
     "metadata": {},
     "output_type": "execute_result"
    }
   ],
   "source": [
    "db"
   ]
  },
  {
   "cell_type": "markdown",
   "id": "e6149743",
   "metadata": {},
   "source": [
    "### Access a specific collection within the database"
   ]
  },
  {
   "cell_type": "code",
   "execution_count": 8,
   "id": "d155fed0",
   "metadata": {},
   "outputs": [
    {
     "name": "stdout",
     "output_type": "stream",
     "text": [
      "['my_test_collection']\n"
     ]
    }
   ],
   "source": [
    "print(db.list_collection_names())"
   ]
  },
  {
   "cell_type": "code",
   "execution_count": 10,
   "id": "e235d5c9",
   "metadata": {},
   "outputs": [],
   "source": [
    "users_col = db.my_test_collection"
   ]
  },
  {
   "cell_type": "raw",
   "id": "45c70964-3f33-4075-9ee0-727224ca720d",
   "metadata": {},
   "source": [
    "users_col"
   ]
  },
  {
   "cell_type": "markdown",
   "id": "8b1658e2",
   "metadata": {},
   "source": [
    "### C - Create\n",
    "Go over how to create new entries in your Mongo Database"
   ]
  },
  {
   "cell_type": "code",
   "execution_count": 11,
   "id": "80369658",
   "metadata": {},
   "outputs": [
    {
     "data": {
      "text/plain": [
       "InsertOneResult(ObjectId('6689812a6df83c3590f96f5d'), acknowledged=True)"
      ]
     },
     "execution_count": 11,
     "metadata": {},
     "output_type": "execute_result"
    }
   ],
   "source": [
    "users_col.insert_one({\"name\": \"Aneesh\", \"age\":26})"
   ]
  },
  {
   "cell_type": "code",
   "execution_count": null,
   "id": "b191a491",
   "metadata": {},
   "outputs": [],
   "source": []
  },
  {
   "cell_type": "code",
   "execution_count": null,
   "id": "ba95eb51",
   "metadata": {},
   "outputs": [],
   "source": []
  },
  {
   "cell_type": "markdown",
   "id": "7a6adcda",
   "metadata": {},
   "source": [
    "### R - Read\n",
    "Go over how to read in entries that are in your Mongo Database"
   ]
  },
  {
   "cell_type": "code",
   "execution_count": 12,
   "id": "cc81de6b",
   "metadata": {},
   "outputs": [
    {
     "data": {
      "text/plain": [
       "{'_id': ObjectId('6689812a6df83c3590f96f5d'), 'name': 'Aneesh', 'age': 26}"
      ]
     },
     "execution_count": 12,
     "metadata": {},
     "output_type": "execute_result"
    }
   ],
   "source": [
    "users_col.find_one({\"name\": \"Aneesh\"})"
   ]
  },
  {
   "cell_type": "code",
   "execution_count": null,
   "id": "775c5f1f",
   "metadata": {},
   "outputs": [],
   "source": []
  },
  {
   "cell_type": "markdown",
   "id": "f09802a7",
   "metadata": {},
   "source": [
    "### U - Update\n",
    "Go over how to update existing entries that are in your Mongo Database"
   ]
  },
  {
   "cell_type": "code",
   "execution_count": 14,
   "id": "c7689535",
   "metadata": {},
   "outputs": [
    {
     "data": {
      "text/plain": [
       "UpdateResult({'n': 1, 'nModified': 1, 'ok': 1.0, 'updatedExisting': True}, acknowledged=True)"
      ]
     },
     "execution_count": 14,
     "metadata": {},
     "output_type": "execute_result"
    }
   ],
   "source": [
    "users_col.update_one({\"name\": \"Aneesh\"},{\"$set\":{\"name\": \"Sunitha\" , \"age\":53}})"
   ]
  },
  {
   "cell_type": "markdown",
   "id": "91afa8f8",
   "metadata": {},
   "source": [
    "### D - Delete\n",
    "Go over how to delete entries that are in your Mongo Database"
   ]
  },
  {
   "cell_type": "code",
   "execution_count": 15,
   "id": "b182eb7d",
   "metadata": {},
   "outputs": [
    {
     "data": {
      "text/plain": [
       "DeleteResult({'n': 1, 'ok': 1.0}, acknowledged=True)"
      ]
     },
     "execution_count": 15,
     "metadata": {},
     "output_type": "execute_result"
    }
   ],
   "source": [
    "users_col.delete_one({\"name\":\"Sunitha\"})"
   ]
  },
  {
   "cell_type": "code",
   "execution_count": null,
   "id": "b5c1c200",
   "metadata": {},
   "outputs": [],
   "source": []
  }
 ],
 "metadata": {
  "kernelspec": {
   "display_name": "Python 3 (ipykernel)",
   "language": "python",
   "name": "python3"
  },
  "language_info": {
   "codemirror_mode": {
    "name": "ipython",
    "version": 3
   },
   "file_extension": ".py",
   "mimetype": "text/x-python",
   "name": "python",
   "nbconvert_exporter": "python",
   "pygments_lexer": "ipython3",
   "version": "3.8.19"
  }
 },
 "nbformat": 4,
 "nbformat_minor": 5
}
